{
 "cells": [
  {
   "cell_type": "markdown",
   "id": "ad45cb6f",
   "metadata": {},
   "source": [
    "# Data Exploration "
   ]
  },
  {
   "cell_type": "code",
   "execution_count": 50,
   "id": "ec3c82b3",
   "metadata": {},
   "outputs": [],
   "source": [
    "import numpy as np\n",
    "import pandas as pd \n",
    "import sqlite3\n",
    "from scipy import stats\n",
    "import matplotlib.pyplot as plt\n",
    "import seaborn as sns\n",
    "import warnings\n",
    "warnings.filterwarnings('ignore')"
   ]
  },
  {
   "cell_type": "markdown",
   "id": "6e78edb7",
   "metadata": {},
   "source": [
    "## Connect to Local SQL Database"
   ]
  },
  {
   "cell_type": "code",
   "execution_count": 11,
   "id": "0eb5c1f0",
   "metadata": {},
   "outputs": [
    {
     "data": {
      "text/html": [
       "<div>\n",
       "<style scoped>\n",
       "    .dataframe tbody tr th:only-of-type {\n",
       "        vertical-align: middle;\n",
       "    }\n",
       "\n",
       "    .dataframe tbody tr th {\n",
       "        vertical-align: top;\n",
       "    }\n",
       "\n",
       "    .dataframe thead th {\n",
       "        text-align: right;\n",
       "    }\n",
       "</style>\n",
       "<table border=\"1\" class=\"dataframe\">\n",
       "  <thead>\n",
       "    <tr style=\"text-align: right;\">\n",
       "      <th></th>\n",
       "      <th>ordering</th>\n",
       "      <th>year</th>\n",
       "      <th>title</th>\n",
       "      <th>averagerating</th>\n",
       "      <th>primary_name</th>\n",
       "      <th>genres</th>\n",
       "      <th>characters</th>\n",
       "      <th>category</th>\n",
       "      <th>job</th>\n",
       "    </tr>\n",
       "  </thead>\n",
       "  <tbody>\n",
       "    <tr>\n",
       "      <th>0</th>\n",
       "      <td>10</td>\n",
       "      <td>2011</td>\n",
       "      <td>The Wicker Tree</td>\n",
       "      <td>3.9</td>\n",
       "      <td>Sean Barton</td>\n",
       "      <td>Drama,Horror</td>\n",
       "      <td>None</td>\n",
       "      <td>editor</td>\n",
       "      <td>None</td>\n",
       "    </tr>\n",
       "    <tr>\n",
       "      <th>1</th>\n",
       "      <td>1</td>\n",
       "      <td>2011</td>\n",
       "      <td>The Wicker Tree</td>\n",
       "      <td>3.9</td>\n",
       "      <td>Brittania Nicol</td>\n",
       "      <td>Drama,Horror</td>\n",
       "      <td>[\"Beth Boothby\"]</td>\n",
       "      <td>actress</td>\n",
       "      <td>None</td>\n",
       "    </tr>\n",
       "    <tr>\n",
       "      <th>2</th>\n",
       "      <td>2</td>\n",
       "      <td>2011</td>\n",
       "      <td>The Wicker Tree</td>\n",
       "      <td>3.9</td>\n",
       "      <td>Henry Garrett</td>\n",
       "      <td>Drama,Horror</td>\n",
       "      <td>[\"Steve Thomson\"]</td>\n",
       "      <td>actor</td>\n",
       "      <td>None</td>\n",
       "    </tr>\n",
       "    <tr>\n",
       "      <th>3</th>\n",
       "      <td>3</td>\n",
       "      <td>2011</td>\n",
       "      <td>The Wicker Tree</td>\n",
       "      <td>3.9</td>\n",
       "      <td>Graham McTavish</td>\n",
       "      <td>Drama,Horror</td>\n",
       "      <td>[\"Sir Lachlan Morrison\"]</td>\n",
       "      <td>actor</td>\n",
       "      <td>None</td>\n",
       "    </tr>\n",
       "    <tr>\n",
       "      <th>4</th>\n",
       "      <td>4</td>\n",
       "      <td>2011</td>\n",
       "      <td>The Wicker Tree</td>\n",
       "      <td>3.9</td>\n",
       "      <td>Jacqueline Leonard</td>\n",
       "      <td>Drama,Horror</td>\n",
       "      <td>[\"Lady Delia Morrison\"]</td>\n",
       "      <td>actress</td>\n",
       "      <td>None</td>\n",
       "    </tr>\n",
       "  </tbody>\n",
       "</table>\n",
       "</div>"
      ],
      "text/plain": [
       "   ordering  year            title  averagerating        primary_name  \\\n",
       "0        10  2011  The Wicker Tree            3.9         Sean Barton   \n",
       "1         1  2011  The Wicker Tree            3.9     Brittania Nicol   \n",
       "2         2  2011  The Wicker Tree            3.9       Henry Garrett   \n",
       "3         3  2011  The Wicker Tree            3.9     Graham McTavish   \n",
       "4         4  2011  The Wicker Tree            3.9  Jacqueline Leonard   \n",
       "\n",
       "         genres                characters category   job  \n",
       "0  Drama,Horror                      None   editor  None  \n",
       "1  Drama,Horror          [\"Beth Boothby\"]  actress  None  \n",
       "2  Drama,Horror         [\"Steve Thomson\"]    actor  None  \n",
       "3  Drama,Horror  [\"Sir Lachlan Morrison\"]    actor  None  \n",
       "4  Drama,Horror   [\"Lady Delia Morrison\"]  actress  None  "
      ]
     },
     "execution_count": 11,
     "metadata": {},
     "output_type": "execute_result"
    }
   ],
   "source": [
    "conn = sqlite3.connect(\"data/im.db\")\n",
    "imdb_people = pd.read_sql( \n",
    "    \"\"\"\n",
    "    SELECT ordering, movie_basics.start_year, movie_basics.primary_title, movie_ratings.averagerating, persons.primary_name, genres, characters, category, principals.job \n",
    "        FROM principals \n",
    "            JOIN persons\n",
    "                ON principals.person_id = persons.person_id\n",
    "            JOIN movie_basics \n",
    "                ON principals.movie_id = movie_basics.movie_id\n",
    "            JOIN movie_ratings\n",
    "                ON principals.movie_id = movie_ratings.movie_id\n",
    "    \"\"\"\n",
    ", conn\n",
    ")\n",
    "\n",
    "#standardize column names\n",
    "imdb_people = imdb_people.rename(columns={\"primary_title\": \"title\", \"start_year\": \"year\"})\n",
    "imdb_people.head()"
   ]
  },
  {
   "cell_type": "code",
   "execution_count": 13,
   "id": "ebf485c9",
   "metadata": {},
   "outputs": [
    {
     "data": {
      "text/html": [
       "<div>\n",
       "<style scoped>\n",
       "    .dataframe tbody tr th:only-of-type {\n",
       "        vertical-align: middle;\n",
       "    }\n",
       "\n",
       "    .dataframe tbody tr th {\n",
       "        vertical-align: top;\n",
       "    }\n",
       "\n",
       "    .dataframe thead th {\n",
       "        text-align: right;\n",
       "    }\n",
       "</style>\n",
       "<table border=\"1\" class=\"dataframe\">\n",
       "  <thead>\n",
       "    <tr style=\"text-align: right;\">\n",
       "      <th></th>\n",
       "      <th>year</th>\n",
       "      <th>title</th>\n",
       "      <th>rating</th>\n",
       "      <th>genres</th>\n",
       "    </tr>\n",
       "  </thead>\n",
       "  <tbody>\n",
       "    <tr>\n",
       "      <th>0</th>\n",
       "      <td>2013</td>\n",
       "      <td>Sunghursh</td>\n",
       "      <td>7.0</td>\n",
       "      <td>Action,Crime,Drama</td>\n",
       "    </tr>\n",
       "    <tr>\n",
       "      <th>1</th>\n",
       "      <td>2019</td>\n",
       "      <td>One Day Before the Rainy Season</td>\n",
       "      <td>7.2</td>\n",
       "      <td>Biography,Drama</td>\n",
       "    </tr>\n",
       "    <tr>\n",
       "      <th>2</th>\n",
       "      <td>2018</td>\n",
       "      <td>The Other Side of the Wind</td>\n",
       "      <td>6.9</td>\n",
       "      <td>Drama</td>\n",
       "    </tr>\n",
       "    <tr>\n",
       "      <th>3</th>\n",
       "      <td>2018</td>\n",
       "      <td>Sabse Bada Sukh</td>\n",
       "      <td>6.1</td>\n",
       "      <td>Comedy,Drama</td>\n",
       "    </tr>\n",
       "    <tr>\n",
       "      <th>4</th>\n",
       "      <td>2017</td>\n",
       "      <td>The Wandering Soap Opera</td>\n",
       "      <td>6.5</td>\n",
       "      <td>Comedy,Drama,Fantasy</td>\n",
       "    </tr>\n",
       "  </tbody>\n",
       "</table>\n",
       "</div>"
      ],
      "text/plain": [
       "   year                            title  rating                genres\n",
       "0  2013                        Sunghursh     7.0    Action,Crime,Drama\n",
       "1  2019  One Day Before the Rainy Season     7.2       Biography,Drama\n",
       "2  2018       The Other Side of the Wind     6.9                 Drama\n",
       "3  2018                  Sabse Bada Sukh     6.1          Comedy,Drama\n",
       "4  2017         The Wandering Soap Opera     6.5  Comedy,Drama,Fantasy"
      ]
     },
     "execution_count": 13,
     "metadata": {},
     "output_type": "execute_result"
    }
   ],
   "source": [
    "imdb_movies = pd.read_sql( \n",
    "    \"\"\"\n",
    "    SELECT movie_basics.start_year, movie_basics.primary_title, movie_ratings.averagerating, genres \n",
    "        FROM movie_basics \n",
    "            JOIN movie_ratings\n",
    "                ON movie_basics.movie_id == movie_ratings.movie_id\n",
    "    \"\"\"\n",
    ", conn\n",
    ")\n",
    "imdb_movies = imdb_movies.rename(columns={\"primary_title\": \"title\", \"start_year\": \"year\", \"averagerating\": \"rating\"})\n",
    "imdb_movies.head()"
   ]
  },
  {
   "cell_type": "markdown",
   "id": "1e29929d",
   "metadata": {},
   "source": [
    "# CSV and TSV Imports"
   ]
  },
  {
   "cell_type": "code",
   "execution_count": 15,
   "id": "ba0134fc",
   "metadata": {},
   "outputs": [],
   "source": [
    "#https://www.boxofficemojo.com/\n",
    "bom = pd.read_csv('data/bom.movie_gross.csv')\n",
    "#https://www.themoviedb.org/\n",
    "tmdb = pd.read_csv('data/tmdb.movies.csv')\n",
    "#https://www.the-numbers.com/\n",
    "tn_movie_budgets = pd.read_csv('data/tn.movie_budgets.csv')\n",
    "#Academy_Awards_DB_from_https://www.kaggle.com/datasets/unanimad/the-oscar-award\n",
    "oscars = pd.read_csv('data/the_oscar_award.csv')"
   ]
  },
  {
   "cell_type": "markdown",
   "id": "26eaf876",
   "metadata": {},
   "source": [
    "### CSV Head Checks + Basic Cleaning"
   ]
  },
  {
   "cell_type": "markdown",
   "id": "d11567c7",
   "metadata": {},
   "source": [
    "We making sure each DataFrame is using a datetimes for dates and cleaning any 'unique' systems, like TMDB using a numeric code for genre. We also standardize column names. "
   ]
  },
  {
   "cell_type": "markdown",
   "id": "e012c408",
   "metadata": {},
   "source": [
    "#### Cleaning Functions"
   ]
  },
  {
   "cell_type": "code",
   "execution_count": 17,
   "id": "289adf0c",
   "metadata": {},
   "outputs": [],
   "source": [
    "def csStringToList(cs_string):\n",
    "    if type(cs_string) == str:\n",
    "        return cs_string.split(',')\n",
    "    else:\n",
    "        return cs_string\n",
    "    \n",
    "def money_to_int(money):\n",
    "    if type(money) != str:\n",
    "        return money\n",
    "    if '$' in money:\n",
    "        #remove cash symbol\n",
    "        money = money.replace('$', '')\n",
    "    money = money.replace(',', '')\n",
    "    money.strip()\n",
    "    return money"
   ]
  },
  {
   "cell_type": "markdown",
   "id": "8b2f906c",
   "metadata": {},
   "source": [
    "Make sure the IMDB dfs are also using lists of genres."
   ]
  },
  {
   "cell_type": "code",
   "execution_count": 19,
   "id": "7c8745b3",
   "metadata": {},
   "outputs": [],
   "source": [
    "imdb_movies['genres'] = imdb_movies['genres'].map(csStringToList)\n",
    "imdb_people['genres'] = imdb_people['genres'].map(csStringToList)"
   ]
  },
  {
   "cell_type": "markdown",
   "id": "368c988a",
   "metadata": {},
   "source": [
    "## Clean BOM"
   ]
  },
  {
   "cell_type": "code",
   "execution_count": 106,
   "id": "19c41066",
   "metadata": {},
   "outputs": [
    {
     "name": "stdout",
     "output_type": "stream",
     "text": [
      "<class 'pandas.core.frame.DataFrame'>\n",
      "RangeIndex: 3387 entries, 0 to 3386\n",
      "Data columns (total 5 columns):\n",
      " #   Column           Non-Null Count  Dtype  \n",
      "---  ------           --------------  -----  \n",
      " 0   title            3387 non-null   object \n",
      " 1   studio           3382 non-null   object \n",
      " 2   domestic_gross   3359 non-null   float64\n",
      " 3   worldwide_gross  2009 non-null   float64\n",
      " 4   year             3387 non-null   int64  \n",
      "dtypes: float64(2), int64(1), object(2)\n",
      "memory usage: 132.4+ KB\n"
     ]
    }
   ],
   "source": [
    "bom = bom.rename(columns={\"foreign_gross\": \"worldwide_gross\"})\n",
    "bom['domestic_gross'] = bom['domestic_gross'].map(money_to_int).astype(float)\n",
    "bom['worldwide_gross'] = bom['worldwide_gross'].map(money_to_int).astype(float)\n",
    "bom['worldwide_gross'] =  bom['worldwide_gross'] + bom['domestic_gross']\n",
    "\n",
    "bom.info()"
   ]
  },
  {
   "cell_type": "code",
   "execution_count": 104,
   "id": "6fd350b7-118e-4bb9-8953-3c5a96eee335",
   "metadata": {},
   "outputs": [
    {
     "data": {
      "text/plain": [
       "studio\n",
       "IFC           166\n",
       "Uni.          147\n",
       "WB            140\n",
       "Fox           136\n",
       "Magn.         136\n",
       "             ... \n",
       "E1              1\n",
       "PI              1\n",
       "ELS             1\n",
       "PalT            1\n",
       "Synergetic      1\n",
       "Name: count, Length: 257, dtype: int64"
      ]
     },
     "execution_count": 104,
     "metadata": {},
     "output_type": "execute_result"
    }
   ],
   "source": [
    "bom['studio'].value_counts()"
   ]
  },
  {
   "cell_type": "markdown",
   "id": "3ad68d29",
   "metadata": {},
   "source": [
    "## Clean TMDB"
   ]
  },
  {
   "cell_type": "code",
   "execution_count": 25,
   "id": "cf45d007",
   "metadata": {},
   "outputs": [
    {
     "data": {
      "text/html": [
       "<div>\n",
       "<style scoped>\n",
       "    .dataframe tbody tr th:only-of-type {\n",
       "        vertical-align: middle;\n",
       "    }\n",
       "\n",
       "    .dataframe tbody tr th {\n",
       "        vertical-align: top;\n",
       "    }\n",
       "\n",
       "    .dataframe thead th {\n",
       "        text-align: right;\n",
       "    }\n",
       "</style>\n",
       "<table border=\"1\" class=\"dataframe\">\n",
       "  <thead>\n",
       "    <tr style=\"text-align: right;\">\n",
       "      <th></th>\n",
       "      <th>Unnamed: 0</th>\n",
       "      <th>genre_ids</th>\n",
       "      <th>id</th>\n",
       "      <th>original_language</th>\n",
       "      <th>original_title</th>\n",
       "      <th>popularity</th>\n",
       "      <th>release_date</th>\n",
       "      <th>title</th>\n",
       "      <th>rating</th>\n",
       "      <th>vote_count</th>\n",
       "      <th>genres</th>\n",
       "      <th>year</th>\n",
       "    </tr>\n",
       "  </thead>\n",
       "  <tbody>\n",
       "    <tr>\n",
       "      <th>0</th>\n",
       "      <td>0</td>\n",
       "      <td>[12, 14, 10751]</td>\n",
       "      <td>12444</td>\n",
       "      <td>en</td>\n",
       "      <td>Harry Potter and the Deathly Hallows: Part 1</td>\n",
       "      <td>33.533</td>\n",
       "      <td>2010-11-19</td>\n",
       "      <td>Harry Potter and the Deathly Hallows: Part 1</td>\n",
       "      <td>7.7</td>\n",
       "      <td>10788</td>\n",
       "      <td>[Adventure, Fantasy, Family]</td>\n",
       "      <td>2010</td>\n",
       "    </tr>\n",
       "    <tr>\n",
       "      <th>1</th>\n",
       "      <td>1</td>\n",
       "      <td>[14, 12, 16, 10751]</td>\n",
       "      <td>10191</td>\n",
       "      <td>en</td>\n",
       "      <td>How to Train Your Dragon</td>\n",
       "      <td>28.734</td>\n",
       "      <td>2010-03-26</td>\n",
       "      <td>How to Train Your Dragon</td>\n",
       "      <td>7.7</td>\n",
       "      <td>7610</td>\n",
       "      <td>[Fantasy, Adventure, Animation, Family]</td>\n",
       "      <td>2010</td>\n",
       "    </tr>\n",
       "    <tr>\n",
       "      <th>2</th>\n",
       "      <td>2</td>\n",
       "      <td>[12, 28, 878]</td>\n",
       "      <td>10138</td>\n",
       "      <td>en</td>\n",
       "      <td>Iron Man 2</td>\n",
       "      <td>28.515</td>\n",
       "      <td>2010-05-07</td>\n",
       "      <td>Iron Man 2</td>\n",
       "      <td>6.8</td>\n",
       "      <td>12368</td>\n",
       "      <td>[Adventure, Action, Science Fiction]</td>\n",
       "      <td>2010</td>\n",
       "    </tr>\n",
       "    <tr>\n",
       "      <th>3</th>\n",
       "      <td>3</td>\n",
       "      <td>[16, 35, 10751]</td>\n",
       "      <td>862</td>\n",
       "      <td>en</td>\n",
       "      <td>Toy Story</td>\n",
       "      <td>28.005</td>\n",
       "      <td>1995-11-22</td>\n",
       "      <td>Toy Story</td>\n",
       "      <td>7.9</td>\n",
       "      <td>10174</td>\n",
       "      <td>[Animation, Comedy, Family]</td>\n",
       "      <td>1995</td>\n",
       "    </tr>\n",
       "    <tr>\n",
       "      <th>4</th>\n",
       "      <td>4</td>\n",
       "      <td>[28, 878, 12]</td>\n",
       "      <td>27205</td>\n",
       "      <td>en</td>\n",
       "      <td>Inception</td>\n",
       "      <td>27.920</td>\n",
       "      <td>2010-07-16</td>\n",
       "      <td>Inception</td>\n",
       "      <td>8.3</td>\n",
       "      <td>22186</td>\n",
       "      <td>[Action, Science Fiction, Adventure]</td>\n",
       "      <td>2010</td>\n",
       "    </tr>\n",
       "  </tbody>\n",
       "</table>\n",
       "</div>"
      ],
      "text/plain": [
       "   Unnamed: 0            genre_ids     id original_language  \\\n",
       "0           0      [12, 14, 10751]  12444                en   \n",
       "1           1  [14, 12, 16, 10751]  10191                en   \n",
       "2           2        [12, 28, 878]  10138                en   \n",
       "3           3      [16, 35, 10751]    862                en   \n",
       "4           4        [28, 878, 12]  27205                en   \n",
       "\n",
       "                                 original_title  popularity release_date  \\\n",
       "0  Harry Potter and the Deathly Hallows: Part 1      33.533   2010-11-19   \n",
       "1                      How to Train Your Dragon      28.734   2010-03-26   \n",
       "2                                    Iron Man 2      28.515   2010-05-07   \n",
       "3                                     Toy Story      28.005   1995-11-22   \n",
       "4                                     Inception      27.920   2010-07-16   \n",
       "\n",
       "                                          title  rating  vote_count  \\\n",
       "0  Harry Potter and the Deathly Hallows: Part 1     7.7       10788   \n",
       "1                      How to Train Your Dragon     7.7        7610   \n",
       "2                                    Iron Man 2     6.8       12368   \n",
       "3                                     Toy Story     7.9       10174   \n",
       "4                                     Inception     8.3       22186   \n",
       "\n",
       "                                    genres  year  \n",
       "0             [Adventure, Fantasy, Family]  2010  \n",
       "1  [Fantasy, Adventure, Animation, Family]  2010  \n",
       "2     [Adventure, Action, Science Fiction]  2010  \n",
       "3              [Animation, Comedy, Family]  1995  \n",
       "4     [Action, Science Fiction, Adventure]  2010  "
      ]
     },
     "execution_count": 25,
     "metadata": {},
     "output_type": "execute_result"
    }
   ],
   "source": [
    "def genreIDtoGenre(id_list):\n",
    "    #'comma separated' \n",
    "    cs = id_list[1:-1]\n",
    "    cs.strip()\n",
    "    ids = cs.split(', ')\n",
    "    newlist = []\n",
    "    for id in ids:\n",
    "        if id == \"12\":\n",
    "            newlist.append(\"Adventure\")\n",
    "        if id == \"28\":\n",
    "            newlist.append(\"Action\")\n",
    "        if id == \"16\":\n",
    "            newlist.append(\"Animation\")\n",
    "        if id == \"35\":\n",
    "            newlist.append(\"Comedy\")\n",
    "        if id == \"80\":\n",
    "            newlist.append(\"Crime\")\n",
    "        if id == \"99\":\n",
    "            newlist.append(\"Documentary\")\n",
    "        if id == \"18\":\n",
    "            newlist.append(\"Drama\")\n",
    "        if id == \"10751\":\n",
    "            newlist.append(\"Family\")\n",
    "        if id == \"14\":\n",
    "            newlist.append(\"Fantasy\")\n",
    "        if id == \"36\":\n",
    "            newlist.append(\"History\")\n",
    "        if id == \"27\":\n",
    "            newlist.append(\"Horror\")\n",
    "        if id == \"10402\":\n",
    "            newlist.append(\"Music\")\n",
    "        if id == \"9648\":\n",
    "            newlist.append(\"Mystery\")\n",
    "        if id == \"10749\":\n",
    "            newlist.append(\"Romance\")\n",
    "        if id == \"878\":\n",
    "            newlist.append(\"Science Fiction\")\n",
    "        if id == \"10770\":\n",
    "            newlist.append(\"TV Movie\")\n",
    "        if id == \"53\":\n",
    "            newlist.append(\"Thriller\")\n",
    "        if id == \"10752\":\n",
    "            newlist.append(\"War\")\n",
    "        if id == \"37\":\n",
    "            newlist.append(\"Western\")\n",
    "    return newlist\n",
    "\n",
    "tmdb['genres'] = tmdb['genre_ids'].map(genreIDtoGenre)\n",
    "tmdb['release_date'] = pd.to_datetime(tmdb['release_date'])\n",
    "tmdb['year'] = tmdb['release_date'].dt.year\n",
    "\n",
    "tmdb = tmdb.rename(columns={\"vote_average\": \"rating\"})\n",
    "\n",
    "tmdb.head()"
   ]
  },
  {
   "cell_type": "markdown",
   "id": "bc05bd40",
   "metadata": {},
   "source": [
    "### Clean TN"
   ]
  },
  {
   "cell_type": "code",
   "execution_count": 36,
   "id": "83ae82cc",
   "metadata": {},
   "outputs": [
    {
     "data": {
      "text/html": [
       "<div>\n",
       "<style scoped>\n",
       "    .dataframe tbody tr th:only-of-type {\n",
       "        vertical-align: middle;\n",
       "    }\n",
       "\n",
       "    .dataframe tbody tr th {\n",
       "        vertical-align: top;\n",
       "    }\n",
       "\n",
       "    .dataframe thead th {\n",
       "        text-align: right;\n",
       "    }\n",
       "</style>\n",
       "<table border=\"1\" class=\"dataframe\">\n",
       "  <thead>\n",
       "    <tr style=\"text-align: right;\">\n",
       "      <th></th>\n",
       "      <th>id</th>\n",
       "      <th>release_date</th>\n",
       "      <th>title</th>\n",
       "      <th>production_budget</th>\n",
       "      <th>domestic_gross</th>\n",
       "      <th>worldwide_gross</th>\n",
       "      <th>year</th>\n",
       "    </tr>\n",
       "  </thead>\n",
       "  <tbody>\n",
       "    <tr>\n",
       "      <th>0</th>\n",
       "      <td>1</td>\n",
       "      <td>2009-12-18</td>\n",
       "      <td>Avatar</td>\n",
       "      <td>425000000</td>\n",
       "      <td>760507625</td>\n",
       "      <td>2776345279</td>\n",
       "      <td>2009</td>\n",
       "    </tr>\n",
       "    <tr>\n",
       "      <th>1</th>\n",
       "      <td>2</td>\n",
       "      <td>2011-05-20</td>\n",
       "      <td>Pirates of the Caribbean: On Stranger Tides</td>\n",
       "      <td>410600000</td>\n",
       "      <td>241063875</td>\n",
       "      <td>1045663875</td>\n",
       "      <td>2011</td>\n",
       "    </tr>\n",
       "    <tr>\n",
       "      <th>2</th>\n",
       "      <td>3</td>\n",
       "      <td>2019-06-07</td>\n",
       "      <td>Dark Phoenix</td>\n",
       "      <td>350000000</td>\n",
       "      <td>42762350</td>\n",
       "      <td>149762350</td>\n",
       "      <td>2019</td>\n",
       "    </tr>\n",
       "    <tr>\n",
       "      <th>3</th>\n",
       "      <td>4</td>\n",
       "      <td>2015-05-01</td>\n",
       "      <td>Avengers: Age of Ultron</td>\n",
       "      <td>330600000</td>\n",
       "      <td>459005868</td>\n",
       "      <td>1403013963</td>\n",
       "      <td>2015</td>\n",
       "    </tr>\n",
       "    <tr>\n",
       "      <th>4</th>\n",
       "      <td>5</td>\n",
       "      <td>2017-12-15</td>\n",
       "      <td>Star Wars Ep. VIII: The Last Jedi</td>\n",
       "      <td>317000000</td>\n",
       "      <td>620181382</td>\n",
       "      <td>1316721747</td>\n",
       "      <td>2017</td>\n",
       "    </tr>\n",
       "  </tbody>\n",
       "</table>\n",
       "</div>"
      ],
      "text/plain": [
       "   id release_date                                        title  \\\n",
       "0   1   2009-12-18                                       Avatar   \n",
       "1   2   2011-05-20  Pirates of the Caribbean: On Stranger Tides   \n",
       "2   3   2019-06-07                                 Dark Phoenix   \n",
       "3   4   2015-05-01                      Avengers: Age of Ultron   \n",
       "4   5   2017-12-15            Star Wars Ep. VIII: The Last Jedi   \n",
       "\n",
       "  production_budget domestic_gross worldwide_gross  year  \n",
       "0         425000000      760507625      2776345279  2009  \n",
       "1         410600000      241063875      1045663875  2011  \n",
       "2         350000000       42762350       149762350  2019  \n",
       "3         330600000      459005868      1403013963  2015  \n",
       "4         317000000      620181382      1316721747  2017  "
      ]
     },
     "execution_count": 36,
     "metadata": {},
     "output_type": "execute_result"
    }
   ],
   "source": [
    "def checkUSD(money):\n",
    "    money = money[0]\n",
    "    if money =='$':\n",
    "        return True\n",
    "    else:\n",
    "        return False\n",
    "\n",
    "tn_movie_budgets['release_date'] = pd.to_datetime(tn_movie_budgets['release_date'])\n",
    "tn_movie_budgets['production_budget'] = tn_movie_budgets['production_budget'].map(money_to_int)\n",
    "tn_movie_budgets['worldwide_gross'] = tn_movie_budgets['worldwide_gross'].map(money_to_int)\n",
    "tn_movie_budgets['domestic_gross'] = tn_movie_budgets['domestic_gross'].map(money_to_int)\n",
    "tn_movie_budgets['year'] = tn_movie_budgets['release_date'].dt.year\n",
    "\n",
    "tn_movie_budgets = tn_movie_budgets.rename(columns={\"movie\": \"title\"})\n",
    "\n",
    "tn_movie_budgets.head()"
   ]
  },
  {
   "cell_type": "markdown",
   "id": "4cf9b882",
   "metadata": {},
   "source": [
    "# Feature Engineering "
   ]
  },
  {
   "cell_type": "markdown",
   "id": "3aa96468",
   "metadata": {},
   "source": [
    "The goals are to create two main data frames. We want one to center around movie titles, studios, important people, production budgets, etc. The other will include genre information and public reception.\n",
    "\n",
    "We can then merge these to have one main dataframe with the sum of our knowlegde"
   ]
  },
  {
   "cell_type": "markdown",
   "id": "24158f11",
   "metadata": {},
   "source": [
    "## Movie Data"
   ]
  },
  {
   "cell_type": "markdown",
   "id": "4c5130ba",
   "metadata": {},
   "source": [
    "We first merge bom and tn_movie budgets, as they are our main sources of financial data."
   ]
  },
  {
   "cell_type": "code",
   "execution_count": 38,
   "id": "b5f9e998",
   "metadata": {},
   "outputs": [
    {
     "name": "stdout",
     "output_type": "stream",
     "text": [
      "<class 'pandas.core.frame.DataFrame'>\n",
      "Index: 9169 entries, 0 to 3386\n",
      "Data columns (total 9 columns):\n",
      " #   Column                     Non-Null Count  Dtype         \n",
      "---  ------                     --------------  -----         \n",
      " 0   release_date               5782 non-null   datetime64[ns]\n",
      " 1   title                      9169 non-null   object        \n",
      " 2   production_budget          9169 non-null   float64       \n",
      " 3   domestic_gross             9169 non-null   float64       \n",
      " 4   worldwide_gross            9169 non-null   float64       \n",
      " 5   year                       9169 non-null   int64         \n",
      " 6   studio                     3382 non-null   object        \n",
      " 7   domestic_financial_ratio   9141 non-null   float64       \n",
      " 8   worldwide_financial_ratio  7819 non-null   float64       \n",
      "dtypes: datetime64[ns](1), float64(5), int64(1), object(2)\n",
      "memory usage: 716.3+ KB\n"
     ]
    },
    {
     "data": {
      "text/html": [
       "<div>\n",
       "<style scoped>\n",
       "    .dataframe tbody tr th:only-of-type {\n",
       "        vertical-align: middle;\n",
       "    }\n",
       "\n",
       "    .dataframe tbody tr th {\n",
       "        vertical-align: top;\n",
       "    }\n",
       "\n",
       "    .dataframe thead th {\n",
       "        text-align: right;\n",
       "    }\n",
       "</style>\n",
       "<table border=\"1\" class=\"dataframe\">\n",
       "  <thead>\n",
       "    <tr style=\"text-align: right;\">\n",
       "      <th></th>\n",
       "      <th>release_date</th>\n",
       "      <th>title</th>\n",
       "      <th>production_budget</th>\n",
       "      <th>domestic_gross</th>\n",
       "      <th>worldwide_gross</th>\n",
       "      <th>year</th>\n",
       "      <th>studio</th>\n",
       "      <th>domestic_financial_ratio</th>\n",
       "      <th>worldwide_financial_ratio</th>\n",
       "    </tr>\n",
       "  </thead>\n",
       "  <tbody>\n",
       "    <tr>\n",
       "      <th>0</th>\n",
       "      <td>2009-12-18</td>\n",
       "      <td>Avatar</td>\n",
       "      <td>425000000.0</td>\n",
       "      <td>760507625.0</td>\n",
       "      <td>2.776345e+09</td>\n",
       "      <td>2009</td>\n",
       "      <td>NaN</td>\n",
       "      <td>0.558837</td>\n",
       "      <td>0.153079</td>\n",
       "    </tr>\n",
       "  </tbody>\n",
       "</table>\n",
       "</div>"
      ],
      "text/plain": [
       "  release_date   title  production_budget  domestic_gross  worldwide_gross  \\\n",
       "0   2009-12-18  Avatar        425000000.0     760507625.0     2.776345e+09   \n",
       "\n",
       "   year studio  domestic_financial_ratio  worldwide_financial_ratio  \n",
       "0  2009    NaN                  0.558837                   0.153079  "
      ]
     },
     "execution_count": 38,
     "metadata": {},
     "output_type": "execute_result"
    }
   ],
   "source": [
    "budget_info = pd.concat([tn_movie_budgets, bom])\n",
    "budget_info['production_budget'] = budget_info['production_budget'].fillna(value=0)\n",
    "budget_info['domestic_gross'] = budget_info['domestic_gross'].fillna(value=0)\n",
    "budget_info['worldwide_gross'] = budget_info['worldwide_gross'].fillna(value=0)\n",
    "\n",
    "budget_info['production_budget'] = budget_info['production_budget'].astype(float)\n",
    "budget_info['domestic_gross'] = budget_info['domestic_gross'].astype(float)\n",
    "budget_info['worldwide_gross'] = budget_info['worldwide_gross'].astype(float)\n",
    "\n",
    "budget_info['domestic_financial_ratio'] = budget_info['production_budget'] / budget_info['domestic_gross']\n",
    "budget_info['worldwide_financial_ratio'] = budget_info['production_budget'] / budget_info['worldwide_gross']\n",
    "\n",
    "budget_info = budget_info.drop(columns='id')\n",
    "\n",
    "budget_info.info()\n",
    "budget_info.head()\n",
    "budget_info.loc[budget_info['title'] == \"Avatar\"]"
   ]
  },
  {
   "cell_type": "markdown",
   "id": "e207ab07",
   "metadata": {},
   "source": [
    "We then want to merge IMBD and TMDB, which have more information on ratings."
   ]
  },
  {
   "cell_type": "code",
   "execution_count": 40,
   "id": "897c700c",
   "metadata": {},
   "outputs": [
    {
     "name": "stdout",
     "output_type": "stream",
     "text": [
      "<class 'pandas.core.frame.DataFrame'>\n",
      "Index: 100373 entries, 0 to 26516\n",
      "Data columns (total 9 columns):\n",
      " #   Column             Non-Null Count   Dtype         \n",
      "---  ------             --------------   -----         \n",
      " 0   year               100373 non-null  int64         \n",
      " 1   title              100373 non-null  object        \n",
      " 2   rating             100373 non-null  float64       \n",
      " 3   genres             99569 non-null   object        \n",
      " 4   original_language  26517 non-null   object        \n",
      " 5   original_title     26517 non-null   object        \n",
      " 6   popularity         26517 non-null   float64       \n",
      " 7   release_date       26517 non-null   datetime64[ns]\n",
      " 8   vote_count         26517 non-null   float64       \n",
      "dtypes: datetime64[ns](1), float64(3), int64(1), object(4)\n",
      "memory usage: 7.7+ MB\n"
     ]
    },
    {
     "data": {
      "text/html": [
       "<div>\n",
       "<style scoped>\n",
       "    .dataframe tbody tr th:only-of-type {\n",
       "        vertical-align: middle;\n",
       "    }\n",
       "\n",
       "    .dataframe tbody tr th {\n",
       "        vertical-align: top;\n",
       "    }\n",
       "\n",
       "    .dataframe thead th {\n",
       "        text-align: right;\n",
       "    }\n",
       "</style>\n",
       "<table border=\"1\" class=\"dataframe\">\n",
       "  <thead>\n",
       "    <tr style=\"text-align: right;\">\n",
       "      <th></th>\n",
       "      <th>year</th>\n",
       "      <th>title</th>\n",
       "      <th>rating</th>\n",
       "      <th>genres</th>\n",
       "      <th>original_language</th>\n",
       "      <th>original_title</th>\n",
       "      <th>popularity</th>\n",
       "      <th>release_date</th>\n",
       "      <th>vote_count</th>\n",
       "    </tr>\n",
       "  </thead>\n",
       "  <tbody>\n",
       "    <tr>\n",
       "      <th>9944</th>\n",
       "      <td>2011</td>\n",
       "      <td>Avatar</td>\n",
       "      <td>6.1</td>\n",
       "      <td>[Horror]</td>\n",
       "      <td>NaN</td>\n",
       "      <td>NaN</td>\n",
       "      <td>NaN</td>\n",
       "      <td>NaT</td>\n",
       "      <td>NaN</td>\n",
       "    </tr>\n",
       "    <tr>\n",
       "      <th>6</th>\n",
       "      <td>2009</td>\n",
       "      <td>Avatar</td>\n",
       "      <td>7.4</td>\n",
       "      <td>[Action, Adventure, Fantasy, Science Fiction]</td>\n",
       "      <td>en</td>\n",
       "      <td>Avatar</td>\n",
       "      <td>26.526</td>\n",
       "      <td>2009-12-18</td>\n",
       "      <td>18676.0</td>\n",
       "    </tr>\n",
       "  </tbody>\n",
       "</table>\n",
       "</div>"
      ],
      "text/plain": [
       "      year   title  rating                                         genres  \\\n",
       "9944  2011  Avatar     6.1                                       [Horror]   \n",
       "6     2009  Avatar     7.4  [Action, Adventure, Fantasy, Science Fiction]   \n",
       "\n",
       "     original_language original_title  popularity release_date  vote_count  \n",
       "9944               NaN            NaN         NaN          NaT         NaN  \n",
       "6                   en         Avatar      26.526   2009-12-18     18676.0  "
      ]
     },
     "execution_count": 40,
     "metadata": {},
     "output_type": "execute_result"
    }
   ],
   "source": [
    "#joining TMDB and IMDB on the title and year\n",
    "tmdb_imdb = pd.concat([imdb_movies, tmdb])\n",
    "\n",
    "tmdb_imdb = tmdb_imdb.drop(columns=['genre_ids', 'id', 'Unnamed: 0'])\n",
    "tmdb_imdb.info()\n",
    "tmdb_imdb.head()\n",
    "\n",
    "tmdb_imdb.loc[tmdb_imdb['title'] == \"Avatar\"]"
   ]
  },
  {
   "cell_type": "markdown",
   "id": "bd5b829f",
   "metadata": {},
   "source": [
    "## Big Merge\n",
    "The movie DB is the combination of our ratings and our budget information.\n"
   ]
  },
  {
   "cell_type": "code",
   "execution_count": 100,
   "id": "879ff850",
   "metadata": {},
   "outputs": [
    {
     "name": "stdout",
     "output_type": "stream",
     "text": [
      "<class 'pandas.core.frame.DataFrame'>\n",
      "RangeIndex: 100375 entries, 0 to 100374\n",
      "Data columns (total 16 columns):\n",
      " #   Column                     Non-Null Count   Dtype         \n",
      "---  ------                     --------------   -----         \n",
      " 0   year_x                     100375 non-null  int64         \n",
      " 1   title                      100375 non-null  object        \n",
      " 2   rating                     100375 non-null  float64       \n",
      " 3   genres                     99571 non-null   object        \n",
      " 4   original_language          26517 non-null   object        \n",
      " 5   original_title             26517 non-null   object        \n",
      " 6   popularity                 26517 non-null   float64       \n",
      " 7   release_date               26517 non-null   datetime64[ns]\n",
      " 8   vote_count                 26517 non-null   float64       \n",
      " 9   production_budget          4427 non-null    float64       \n",
      " 10  domestic_gross             4427 non-null    float64       \n",
      " 11  worldwide_gross            4427 non-null    float64       \n",
      " 12  year_y                     4427 non-null    float64       \n",
      " 13  studio                     3024 non-null    object        \n",
      " 14  domestic_financial_ratio   4405 non-null    float64       \n",
      " 15  worldwide_financial_ratio  3232 non-null    float64       \n",
      "dtypes: datetime64[ns](1), float64(9), int64(1), object(5)\n",
      "memory usage: 12.3+ MB\n"
     ]
    }
   ],
   "source": [
    "movie_db = tmdb_imdb.merge(budget_info, how='left', on=['title', 'release_date'])\n",
    "\n",
    "movie_db.info()\n",
    "movie_db.head()\n",
    "\n",
    "movie_db.loc[movie_db['title'] == \"Avatar\"]\n",
    "movie_db.to_csv(\"movies_db.csv\")"
   ]
  },
  {
   "cell_type": "code",
   "execution_count": 96,
   "id": "b3edbd56-7f32-47e9-bf59-4fd9bb584374",
   "metadata": {},
   "outputs": [
    {
     "ename": "ValueError",
     "evalue": "The truth value of a Series is ambiguous. Use a.empty, a.bool(), a.item(), a.any() or a.all().",
     "output_type": "error",
     "traceback": [
      "\u001b[0;31m---------------------------------------------------------------------------\u001b[0m",
      "\u001b[0;31mValueError\u001b[0m                                Traceback (most recent call last)",
      "\u001b[0;32m/var/folders/zp/y3_8cd0s1tz68ksgv9pnl2ch0000gn/T/ipykernel_44207/377627083.py\u001b[0m in \u001b[0;36m?\u001b[0;34m()\u001b[0m\n\u001b[0;32m----> 1\u001b[0;31m \u001b[0;32mif\u001b[0m \u001b[0mmovie_db\u001b[0m\u001b[0;34m[\u001b[0m\u001b[0;34m'production_budget'\u001b[0m\u001b[0;34m]\u001b[0m \u001b[0;34m==\u001b[0m \u001b[0;36m0\u001b[0m \u001b[0;32mor\u001b[0m \u001b[0mmovie_db\u001b[0m\u001b[0;34m[\u001b[0m\u001b[0;34m'worldwide_gross'\u001b[0m\u001b[0;34m]\u001b[0m \u001b[0;34m==\u001b[0m \u001b[0;36m0\u001b[0m\u001b[0;34m:\u001b[0m\u001b[0;34m\u001b[0m\u001b[0;34m\u001b[0m\u001b[0m\n\u001b[0m\u001b[1;32m      2\u001b[0m     \u001b[0mmovie_db\u001b[0m\u001b[0;34m[\u001b[0m\u001b[0;34m'%_profit'\u001b[0m\u001b[0;34m]\u001b[0m \u001b[0;34m=\u001b[0m \u001b[0mnp\u001b[0m\u001b[0;34m.\u001b[0m\u001b[0mnan\u001b[0m\u001b[0;34m(\u001b[0m\u001b[0;34m)\u001b[0m\u001b[0;34m\u001b[0m\u001b[0;34m\u001b[0m\u001b[0m\n\u001b[1;32m      3\u001b[0m \u001b[0;34m\u001b[0m\u001b[0m\n\u001b[1;32m      4\u001b[0m \u001b[0;32melse\u001b[0m\u001b[0;34m:\u001b[0m\u001b[0;34m\u001b[0m\u001b[0;34m\u001b[0m\u001b[0m\n",
      "\u001b[0;32m/opt/anaconda3/envs/learn-env/lib/python3.9/site-packages/pandas/core/generic.py\u001b[0m in \u001b[0;36m?\u001b[0;34m(self)\u001b[0m\n\u001b[1;32m   1575\u001b[0m     \u001b[0;34m@\u001b[0m\u001b[0mfinal\u001b[0m\u001b[0;34m\u001b[0m\u001b[0;34m\u001b[0m\u001b[0m\n\u001b[1;32m   1576\u001b[0m     \u001b[0;32mdef\u001b[0m \u001b[0m__nonzero__\u001b[0m\u001b[0;34m(\u001b[0m\u001b[0mself\u001b[0m\u001b[0;34m)\u001b[0m \u001b[0;34m->\u001b[0m \u001b[0mNoReturn\u001b[0m\u001b[0;34m:\u001b[0m\u001b[0;34m\u001b[0m\u001b[0;34m\u001b[0m\u001b[0m\n\u001b[0;32m-> 1577\u001b[0;31m         raise ValueError(\n\u001b[0m\u001b[1;32m   1578\u001b[0m             \u001b[0;34mf\"The truth value of a {type(self).__name__} is ambiguous. \"\u001b[0m\u001b[0;34m\u001b[0m\u001b[0;34m\u001b[0m\u001b[0m\n\u001b[1;32m   1579\u001b[0m             \u001b[0;34m\"Use a.empty, a.bool(), a.item(), a.any() or a.all().\"\u001b[0m\u001b[0;34m\u001b[0m\u001b[0;34m\u001b[0m\u001b[0m\n\u001b[1;32m   1580\u001b[0m         )\n",
      "\u001b[0;31mValueError\u001b[0m: The truth value of a Series is ambiguous. Use a.empty, a.bool(), a.item(), a.any() or a.all()."
     ]
    }
   ],
   "source": [
    "if movie_db['production_budget'] == 0 or movie_db['worldwide_gross'] == 0:\n",
    "    movie_db['%_profit'] = np.nan()\n",
    "\n",
    "else:\n",
    "    movie_db['%_profit'] = (movie_db['worldwide_gross'] - movie_db['production_budget']) / movie_db['production_budget'] * 100"
   ]
  },
  {
   "cell_type": "code",
   "execution_count": 102,
   "id": "d63ab7ca-d979-4fea-95b8-b0282333354a",
   "metadata": {},
   "outputs": [
    {
     "name": "stdout",
     "output_type": "stream",
     "text": [
      "<class 'pandas.core.frame.DataFrame'>\n",
      "RangeIndex: 100375 entries, 0 to 100374\n",
      "Data columns (total 16 columns):\n",
      " #   Column                     Non-Null Count   Dtype         \n",
      "---  ------                     --------------   -----         \n",
      " 0   year_x                     100375 non-null  int64         \n",
      " 1   title                      100375 non-null  object        \n",
      " 2   rating                     100375 non-null  float64       \n",
      " 3   genres                     99571 non-null   object        \n",
      " 4   original_language          26517 non-null   object        \n",
      " 5   original_title             26517 non-null   object        \n",
      " 6   popularity                 26517 non-null   float64       \n",
      " 7   release_date               26517 non-null   datetime64[ns]\n",
      " 8   vote_count                 26517 non-null   float64       \n",
      " 9   production_budget          4427 non-null    float64       \n",
      " 10  domestic_gross             4427 non-null    float64       \n",
      " 11  worldwide_gross            4427 non-null    float64       \n",
      " 12  year_y                     4427 non-null    float64       \n",
      " 13  studio                     3024 non-null    object        \n",
      " 14  domestic_financial_ratio   4405 non-null    float64       \n",
      " 15  worldwide_financial_ratio  3232 non-null    float64       \n",
      "dtypes: datetime64[ns](1), float64(9), int64(1), object(5)\n",
      "memory usage: 12.3+ MB\n"
     ]
    }
   ],
   "source": [
    "movie_db.info()"
   ]
  },
  {
   "cell_type": "code",
   "execution_count": 86,
   "id": "e8e8d6c9-7f8f-489e-a3ed-813033f1bbc9",
   "metadata": {},
   "outputs": [
    {
     "data": {
      "text/plain": [
       "count    3232.000000\n",
       "mean             inf\n",
       "std              NaN\n",
       "min      -100.000000\n",
       "25%       166.972848\n",
       "50%              NaN\n",
       "75%              NaN\n",
       "max              inf\n",
       "Name: %_profit, dtype: float64"
      ]
     },
     "execution_count": 86,
     "metadata": {},
     "output_type": "execute_result"
    }
   ],
   "source": [
    "movie_db['%_profit'].describe()"
   ]
  },
  {
   "cell_type": "code",
   "execution_count": 88,
   "id": "a510b014-5862-4c5b-bdde-2f1ba552aae0",
   "metadata": {},
   "outputs": [
    {
     "data": {
      "text/plain": [
       "count    4.427000e+03\n",
       "mean     1.451949e+07\n",
       "std      3.846886e+07\n",
       "min      0.000000e+00\n",
       "25%      0.000000e+00\n",
       "50%      0.000000e+00\n",
       "75%      7.000000e+06\n",
       "max      4.250000e+08\n",
       "Name: production_budget, dtype: float64"
      ]
     },
     "execution_count": 88,
     "metadata": {},
     "output_type": "execute_result"
    }
   ],
   "source": [
    "movie_db['production_budget'].describe()"
   ]
  },
  {
   "cell_type": "code",
   "execution_count": 90,
   "id": "01977d97-5fc4-4181-a262-b0c01f9480cb",
   "metadata": {},
   "outputs": [
    {
     "data": {
      "text/plain": [
       "count    4.427000e+03\n",
       "mean     7.928493e+07\n",
       "std      1.735585e+08\n",
       "min      0.000000e+00\n",
       "25%      0.000000e+00\n",
       "50%      1.040000e+07\n",
       "75%      7.493343e+07\n",
       "max      2.776345e+09\n",
       "Name: worldwide_gross, dtype: float64"
      ]
     },
     "execution_count": 90,
     "metadata": {},
     "output_type": "execute_result"
    }
   ],
   "source": [
    "movie_db['worldwide_gross'].describe()"
   ]
  },
  {
   "cell_type": "code",
   "execution_count": 80,
   "id": "2ea4eed3-9912-4459-8783-30ce28bcda93",
   "metadata": {},
   "outputs": [
    {
     "data": {
      "text/plain": [
       "%_profit\n",
       "-inf             1832\n",
       "-4.155647e+04       1\n",
       "-1.007595e+04       1\n",
       "-8.556669e+03       1\n",
       "-6.558059e+03       1\n",
       "                 ... \n",
       " 9.988343e+01       1\n",
       " 9.989182e+01       1\n",
       " 9.989440e+01       1\n",
       " 9.999740e+01       1\n",
       " 1.000000e+02      42\n",
       "Name: count, Length: 1231, dtype: int64"
      ]
     },
     "execution_count": 80,
     "metadata": {},
     "output_type": "execute_result"
    }
   ],
   "source": [
    "movie_db['%_profit'].value_counts().sort_index()"
   ]
  },
  {
   "cell_type": "code",
   "execution_count": 98,
   "id": "1c6ea00f-aa1e-4677-bb89-596e74e68819",
   "metadata": {},
   "outputs": [
    {
     "name": "stdout",
     "output_type": "stream",
     "text": [
      "<class 'pandas.core.frame.DataFrame'>\n",
      "Index: 97306 entries, 0 to 100374\n",
      "Data columns (total 17 columns):\n",
      " #   Column                     Non-Null Count  Dtype         \n",
      "---  ------                     --------------  -----         \n",
      " 0   year_x                     97306 non-null  int64         \n",
      " 1   title                      97306 non-null  object        \n",
      " 2   rating                     97306 non-null  float64       \n",
      " 3   genres                     96509 non-null  object        \n",
      " 4   original_language          26475 non-null  object        \n",
      " 5   original_title             26475 non-null  object        \n",
      " 6   popularity                 26475 non-null  float64       \n",
      " 7   release_date               26475 non-null  datetime64[ns]\n",
      " 8   vote_count                 26475 non-null  float64       \n",
      " 9   production_budget          1358 non-null   float64       \n",
      " 10  domestic_gross             1358 non-null   float64       \n",
      " 11  worldwide_gross            1358 non-null   float64       \n",
      " 12  year_y                     1358 non-null   float64       \n",
      " 13  studio                     0 non-null      object        \n",
      " 14  domestic_financial_ratio   1358 non-null   float64       \n",
      " 15  worldwide_financial_ratio  1358 non-null   float64       \n",
      " 16  %_profit                   1358 non-null   float64       \n",
      "dtypes: datetime64[ns](1), float64(10), int64(1), object(5)\n",
      "memory usage: 13.4+ MB\n"
     ]
    }
   ],
   "source": [
    "movie_db = movie_db.loc[(movie_db['worldwide_gross'] != 0) & (movie_db['production_budget'] != 0)]\n",
    "movie_db.info()"
   ]
  },
  {
   "cell_type": "code",
   "execution_count": 108,
   "id": "b643de49-7259-42a2-9ec6-b03ae9a26c0a",
   "metadata": {},
   "outputs": [
    {
     "name": "stdout",
     "output_type": "stream",
     "text": [
      "<class 'pandas.core.frame.DataFrame'>\n",
      "RangeIndex: 10889 entries, 0 to 10888\n",
      "Data columns (total 7 columns):\n",
      " #   Column         Non-Null Count  Dtype \n",
      "---  ------         --------------  ----- \n",
      " 0   year_film      10889 non-null  int64 \n",
      " 1   year_ceremony  10889 non-null  int64 \n",
      " 2   ceremony       10889 non-null  int64 \n",
      " 3   category       10889 non-null  object\n",
      " 4   name           10884 non-null  object\n",
      " 5   film           10570 non-null  object\n",
      " 6   winner         10889 non-null  bool  \n",
      "dtypes: bool(1), int64(3), object(3)\n",
      "memory usage: 521.2+ KB\n"
     ]
    }
   ],
   "source": [
    "oscars.info()"
   ]
  },
  {
   "cell_type": "code",
   "execution_count": 138,
   "id": "ee170530-1781-41d0-946d-ff52ae8bf1ee",
   "metadata": {},
   "outputs": [
    {
     "name": "stdout",
     "output_type": "stream",
     "text": [
      "<class 'pandas.core.frame.DataFrame'>\n",
      "Index: 10570 entries, 0 to 10884\n",
      "Data columns (total 7 columns):\n",
      " #   Column         Non-Null Count  Dtype \n",
      "---  ------         --------------  ----- \n",
      " 0   year_film      10570 non-null  int64 \n",
      " 1   year_ceremony  10570 non-null  int64 \n",
      " 2   ceremony       10570 non-null  int64 \n",
      " 3   category       10570 non-null  object\n",
      " 4   name           10570 non-null  object\n",
      " 5   film           10570 non-null  object\n",
      " 6   winner         10570 non-null  bool  \n",
      "dtypes: bool(1), int64(3), object(3)\n",
      "memory usage: 588.4+ KB\n"
     ]
    }
   ],
   "source": [
    "oscars = oscars[oscars['film'].notna()]\n",
    "oscars.info()"
   ]
  },
  {
   "cell_type": "code",
   "execution_count": 110,
   "id": "05220e95-afbd-46ad-b3dd-0eb3e17f2b1c",
   "metadata": {},
   "outputs": [
    {
     "data": {
      "text/html": [
       "<div>\n",
       "<style scoped>\n",
       "    .dataframe tbody tr th:only-of-type {\n",
       "        vertical-align: middle;\n",
       "    }\n",
       "\n",
       "    .dataframe tbody tr th {\n",
       "        vertical-align: top;\n",
       "    }\n",
       "\n",
       "    .dataframe thead th {\n",
       "        text-align: right;\n",
       "    }\n",
       "</style>\n",
       "<table border=\"1\" class=\"dataframe\">\n",
       "  <thead>\n",
       "    <tr style=\"text-align: right;\">\n",
       "      <th></th>\n",
       "      <th>year_film</th>\n",
       "      <th>year_ceremony</th>\n",
       "      <th>ceremony</th>\n",
       "      <th>category</th>\n",
       "      <th>name</th>\n",
       "      <th>film</th>\n",
       "      <th>winner</th>\n",
       "    </tr>\n",
       "  </thead>\n",
       "  <tbody>\n",
       "    <tr>\n",
       "      <th>0</th>\n",
       "      <td>1927</td>\n",
       "      <td>1928</td>\n",
       "      <td>1</td>\n",
       "      <td>ACTOR</td>\n",
       "      <td>Richard Barthelmess</td>\n",
       "      <td>The Noose</td>\n",
       "      <td>False</td>\n",
       "    </tr>\n",
       "    <tr>\n",
       "      <th>1</th>\n",
       "      <td>1927</td>\n",
       "      <td>1928</td>\n",
       "      <td>1</td>\n",
       "      <td>ACTOR</td>\n",
       "      <td>Emil Jannings</td>\n",
       "      <td>The Last Command</td>\n",
       "      <td>True</td>\n",
       "    </tr>\n",
       "    <tr>\n",
       "      <th>2</th>\n",
       "      <td>1927</td>\n",
       "      <td>1928</td>\n",
       "      <td>1</td>\n",
       "      <td>ACTRESS</td>\n",
       "      <td>Louise Dresser</td>\n",
       "      <td>A Ship Comes In</td>\n",
       "      <td>False</td>\n",
       "    </tr>\n",
       "    <tr>\n",
       "      <th>3</th>\n",
       "      <td>1927</td>\n",
       "      <td>1928</td>\n",
       "      <td>1</td>\n",
       "      <td>ACTRESS</td>\n",
       "      <td>Janet Gaynor</td>\n",
       "      <td>7th Heaven</td>\n",
       "      <td>True</td>\n",
       "    </tr>\n",
       "    <tr>\n",
       "      <th>4</th>\n",
       "      <td>1927</td>\n",
       "      <td>1928</td>\n",
       "      <td>1</td>\n",
       "      <td>ACTRESS</td>\n",
       "      <td>Gloria Swanson</td>\n",
       "      <td>Sadie Thompson</td>\n",
       "      <td>False</td>\n",
       "    </tr>\n",
       "  </tbody>\n",
       "</table>\n",
       "</div>"
      ],
      "text/plain": [
       "   year_film  year_ceremony  ceremony category                 name  \\\n",
       "0       1927           1928         1    ACTOR  Richard Barthelmess   \n",
       "1       1927           1928         1    ACTOR        Emil Jannings   \n",
       "2       1927           1928         1  ACTRESS       Louise Dresser   \n",
       "3       1927           1928         1  ACTRESS         Janet Gaynor   \n",
       "4       1927           1928         1  ACTRESS       Gloria Swanson   \n",
       "\n",
       "               film  winner  \n",
       "0         The Noose   False  \n",
       "1  The Last Command    True  \n",
       "2   A Ship Comes In   False  \n",
       "3        7th Heaven    True  \n",
       "4    Sadie Thompson   False  "
      ]
     },
     "execution_count": 110,
     "metadata": {},
     "output_type": "execute_result"
    }
   ],
   "source": [
    "oscars.head()"
   ]
  },
  {
   "cell_type": "code",
   "execution_count": 112,
   "id": "1d514699-4be4-4a3a-9c0f-de43c9a773ae",
   "metadata": {},
   "outputs": [
    {
     "data": {
      "text/plain": [
       "category\n",
       "DIRECTING                                    469\n",
       "FILM EDITING                                 450\n",
       "ACTRESS IN A SUPPORTING ROLE                 440\n",
       "ACTOR IN A SUPPORTING ROLE                   440\n",
       "DOCUMENTARY (Short Subject)                  378\n",
       "                                            ... \n",
       "SPECIAL FOREIGN LANGUAGE FILM AWARD            2\n",
       "GORDON E. SAWYER AWARD                         1\n",
       "SPECIAL ACHIEVEMENT AWARD (Sound Editing)      1\n",
       "SPECIAL ACHIEVEMENT AWARD (Sound Effects)      1\n",
       "AWARD OF COMMENDATION                          1\n",
       "Name: count, Length: 115, dtype: int64"
      ]
     },
     "execution_count": 112,
     "metadata": {},
     "output_type": "execute_result"
    }
   ],
   "source": [
    "oscars['category'].value_counts()"
   ]
  },
  {
   "cell_type": "code",
   "execution_count": 118,
   "id": "0e0cf6b0-74d7-410d-bfe6-d046e5c3fd22",
   "metadata": {},
   "outputs": [],
   "source": [
    "oscar_categ = oscars['category'].value_counts()"
   ]
  },
  {
   "cell_type": "code",
   "execution_count": 120,
   "id": "b3323b34-f888-40d6-a409-185e37f1e75e",
   "metadata": {},
   "outputs": [],
   "source": [
    "oscar_categ.to_csv('data/oscar_categ.csv')"
   ]
  },
  {
   "cell_type": "code",
   "execution_count": 136,
   "id": "64680332-8f6a-4d29-a532-d02a5bf2cbc8",
   "metadata": {},
   "outputs": [
    {
     "data": {
      "text/html": [
       "<div>\n",
       "<style scoped>\n",
       "    .dataframe tbody tr th:only-of-type {\n",
       "        vertical-align: middle;\n",
       "    }\n",
       "\n",
       "    .dataframe tbody tr th {\n",
       "        vertical-align: top;\n",
       "    }\n",
       "\n",
       "    .dataframe thead th {\n",
       "        text-align: right;\n",
       "    }\n",
       "</style>\n",
       "<table border=\"1\" class=\"dataframe\">\n",
       "  <thead>\n",
       "    <tr style=\"text-align: right;\">\n",
       "      <th></th>\n",
       "      <th>name</th>\n",
       "      <th>year_film</th>\n",
       "    </tr>\n",
       "  </thead>\n",
       "  <tbody>\n",
       "    <tr>\n",
       "      <th>16</th>\n",
       "      <td>Ralph Hammeras</td>\n",
       "      <td>1927</td>\n",
       "    </tr>\n",
       "    <tr>\n",
       "      <th>18</th>\n",
       "      <td>Nugent Slaughter</td>\n",
       "      <td>1927</td>\n",
       "    </tr>\n",
       "    <tr>\n",
       "      <th>31</th>\n",
       "      <td>Joseph Farnham</td>\n",
       "      <td>1927</td>\n",
       "    </tr>\n",
       "    <tr>\n",
       "      <th>32</th>\n",
       "      <td>George Marion, Jr.</td>\n",
       "      <td>1927</td>\n",
       "    </tr>\n",
       "    <tr>\n",
       "      <th>33</th>\n",
       "      <td>Warner Bros.</td>\n",
       "      <td>1927</td>\n",
       "    </tr>\n",
       "    <tr>\n",
       "      <th>...</th>\n",
       "      <td>...</td>\n",
       "      <td>...</td>\n",
       "    </tr>\n",
       "    <tr>\n",
       "      <th>10763</th>\n",
       "      <td>Iain Neil</td>\n",
       "      <td>2022</td>\n",
       "    </tr>\n",
       "    <tr>\n",
       "      <th>10885</th>\n",
       "      <td>NaN</td>\n",
       "      <td>2023</td>\n",
       "    </tr>\n",
       "    <tr>\n",
       "      <th>10886</th>\n",
       "      <td>To Angela Bassett, who has inspired audiences ...</td>\n",
       "      <td>2023</td>\n",
       "    </tr>\n",
       "    <tr>\n",
       "      <th>10887</th>\n",
       "      <td>To Mel Brooks, for his comedic brilliance, pro...</td>\n",
       "      <td>2023</td>\n",
       "    </tr>\n",
       "    <tr>\n",
       "      <th>10888</th>\n",
       "      <td>To Carol Littleton, whose commitment to her cr...</td>\n",
       "      <td>2023</td>\n",
       "    </tr>\n",
       "  </tbody>\n",
       "</table>\n",
       "<p>319 rows × 2 columns</p>\n",
       "</div>"
      ],
      "text/plain": [
       "                                                    name  year_film\n",
       "16                                        Ralph Hammeras       1927\n",
       "18                                      Nugent Slaughter       1927\n",
       "31                                        Joseph Farnham       1927\n",
       "32                                    George Marion, Jr.       1927\n",
       "33                                          Warner Bros.       1927\n",
       "...                                                  ...        ...\n",
       "10763                                          Iain Neil       2022\n",
       "10885                                                NaN       2023\n",
       "10886  To Angela Bassett, who has inspired audiences ...       2023\n",
       "10887  To Mel Brooks, for his comedic brilliance, pro...       2023\n",
       "10888  To Carol Littleton, whose commitment to her cr...       2023\n",
       "\n",
       "[319 rows x 2 columns]"
      ]
     },
     "execution_count": 136,
     "metadata": {},
     "output_type": "execute_result"
    }
   ],
   "source": [
    "oscars.loc[oscars['film'].isna(), ['name', 'year_film']]"
   ]
  },
  {
   "cell_type": "code",
   "execution_count": 140,
   "id": "d6b4530d-f05a-4b0c-960f-79fd241acd3f",
   "metadata": {},
   "outputs": [],
   "source": [
    "oscar_categ_map = pd.read_csv('data/oscar_categ_map.csv')"
   ]
  },
  {
   "cell_type": "code",
   "execution_count": 142,
   "id": "ffee08b8-e36b-4801-a02f-466a81cb711f",
   "metadata": {},
   "outputs": [
    {
     "data": {
      "text/html": [
       "<div>\n",
       "<style scoped>\n",
       "    .dataframe tbody tr th:only-of-type {\n",
       "        vertical-align: middle;\n",
       "    }\n",
       "\n",
       "    .dataframe tbody tr th {\n",
       "        vertical-align: top;\n",
       "    }\n",
       "\n",
       "    .dataframe thead th {\n",
       "        text-align: right;\n",
       "    }\n",
       "</style>\n",
       "<table border=\"1\" class=\"dataframe\">\n",
       "  <thead>\n",
       "    <tr style=\"text-align: right;\">\n",
       "      <th></th>\n",
       "      <th>Major</th>\n",
       "      <th>Minor</th>\n",
       "    </tr>\n",
       "  </thead>\n",
       "  <tbody>\n",
       "    <tr>\n",
       "      <th>0</th>\n",
       "      <td>ANIMATED FEATURE FILM</td>\n",
       "      <td>ACTOR</td>\n",
       "    </tr>\n",
       "    <tr>\n",
       "      <th>1</th>\n",
       "      <td>ASSISTANT DIRECTOR</td>\n",
       "      <td>ACTOR IN A LEADING ROLE</td>\n",
       "    </tr>\n",
       "    <tr>\n",
       "      <th>2</th>\n",
       "      <td>AWARD OF COMMENDATION</td>\n",
       "      <td>ACTOR IN A SUPPORTING ROLE</td>\n",
       "    </tr>\n",
       "    <tr>\n",
       "      <th>3</th>\n",
       "      <td>BEST MOTION PICTURE</td>\n",
       "      <td>ACTRESS</td>\n",
       "    </tr>\n",
       "    <tr>\n",
       "      <th>4</th>\n",
       "      <td>BEST PICTURE</td>\n",
       "      <td>ACTRESS IN A LEADING ROLE</td>\n",
       "    </tr>\n",
       "  </tbody>\n",
       "</table>\n",
       "</div>"
      ],
      "text/plain": [
       "                   Major                       Minor\n",
       "0  ANIMATED FEATURE FILM                       ACTOR\n",
       "1     ASSISTANT DIRECTOR     ACTOR IN A LEADING ROLE\n",
       "2  AWARD OF COMMENDATION  ACTOR IN A SUPPORTING ROLE\n",
       "3    BEST MOTION PICTURE                     ACTRESS\n",
       "4           BEST PICTURE   ACTRESS IN A LEADING ROLE"
      ]
     },
     "execution_count": 142,
     "metadata": {},
     "output_type": "execute_result"
    }
   ],
   "source": [
    "oscar_categ_map.head()"
   ]
  },
  {
   "cell_type": "code",
   "execution_count": 144,
   "id": "3c4e4c62-7858-42c6-8c05-d2a1c7486cc5",
   "metadata": {},
   "outputs": [],
   "source": [
    "major_oscars = oscar_categ_map['Major'].to_list()"
   ]
  },
  {
   "cell_type": "code",
   "execution_count": 148,
   "id": "d9c25fbd-a1ae-436b-95d7-26da94b33215",
   "metadata": {},
   "outputs": [],
   "source": [
    "minor_oscars = oscar_categ_map['Minor'].to_list()"
   ]
  },
  {
   "cell_type": "code",
   "execution_count": null,
   "id": "320a4eb0-de92-413d-8b7a-32f34e777f15",
   "metadata": {},
   "outputs": [],
   "source": [
    "def winner_count(a, b, c):\n",
    "    return a*b*c\n",
    "\n",
    "# Using apply:\n",
    "%timeit df['d'] = df.apply(lambda x: some_func(a = x['a'], b = x['b'], c = x['c']), axis=1)"
   ]
  }
 ],
 "metadata": {
  "kernelspec": {
   "display_name": "Python (learn-env)",
   "language": "python",
   "name": "learn-env"
  },
  "language_info": {
   "codemirror_mode": {
    "name": "ipython",
    "version": 3
   },
   "file_extension": ".py",
   "mimetype": "text/x-python",
   "name": "python",
   "nbconvert_exporter": "python",
   "pygments_lexer": "ipython3",
   "version": "3.9.19"
  }
 },
 "nbformat": 4,
 "nbformat_minor": 5
}
